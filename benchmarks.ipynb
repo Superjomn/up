{
 "cells": [
  {
   "cell_type": "markdown",
   "metadata": {},
   "source": [
    "# Bethmark"
   ]
  },
  {
   "cell_type": "code",
   "execution_count": 19,
   "metadata": {},
   "outputs": [
    {
     "name": "stdout",
     "output_type": "stream",
     "text": [
      "Timer loop lasts 11\n",
      "Timer loop unroll lasts 9\n",
      "Timer loop unroll2 lasts 10\n"
     ]
    }
   ],
   "source": [
    "//% includes: full\n",
    "//% includes: stdlib.h\n",
    "//% includes: array\n",
    "//% namespace: std\n",
    "//% includes: timer.h\n",
    "//% cflags: -I/home/superjom/project/jupyter-cpp-kernel/resources\n",
    "\n",
    "const int size = 100000;\n",
    "const int repeat = 10000;\n",
    "\n",
    "array<float, size> a, b;\n",
    "\n",
    "float c = 0;\n",
    "\n",
    "// assign random\n",
    "for (int i = 0; i < size; i++) {\n",
    "  a[i] = rand() / RAND_MAX - 0.5;\n",
    "  b[i] = rand() / RAND_MAX - 0.5;\n",
    "}\n",
    "\n",
    "// calculate c\n",
    "{\n",
    "  OnceTimer t0(\"loop\");\n",
    "\n",
    "  for (int r = 0; r < repeat; r++) {\n",
    "    for (int i = 0; i < size; i++) {\n",
    "      c += a[i] * b[i];\n",
    "    }\n",
    "  }\n",
    "}\n",
    "\n",
    "{\n",
    "  c = 0;\n",
    "  OnceTimer t1(\"loop unroll\");\n",
    "  \n",
    "  for (int r = 0; r < repeat; r++) {\n",
    "    for (int i = 0; i < size; i += 4) {\n",
    "      c += a[i]*b[i] + a[i+1]*b[i+1] + a[i+2]*b[i+2] + a[i+3]*b[i+3]; \n",
    "    }\n",
    "  }\n",
    "}\n",
    "\n",
    "{\n",
    "  c = 0;\n",
    "  OnceTimer t2(\"loop unroll2\");\n",
    "  \n",
    "  float c0 = 0; float c1 = 0; float c2 = 0; float c3 = 0;\n",
    "  for (int r = 0; r < repeat; r++) {\n",
    "    for (int i = 0; i < size; i+=4) {\n",
    "      c0 += a[i] * b[i];\n",
    "      c1 += a[i+1] * b[i+1];\n",
    "      c2 += a[i+2] * b[i+2];\n",
    "      c3 += a[i+3] * b[i+3];\n",
    "    }\n",
    "    c = c0 + c1 + c2 + c3;\n",
    "  }\n",
    "}\n"
   ]
  },
  {
   "cell_type": "markdown",
   "metadata": {},
   "source": [
    "## SIMD"
   ]
  },
  {
   "cell_type": "code",
   "execution_count": 30,
   "metadata": {},
   "outputs": [
    {
     "name": "stdout",
     "output_type": "stream",
     "text": [
      "Timer SIMD0 lasts 2\n",
      "c:1.67772e+07\n"
     ]
    }
   ],
   "source": [
    "//% includes: mmintrin.h\n",
    "//% includes: xmmintrin.h\n",
    "//% includes: timer.h\n",
    "//% includes: iostream\n",
    "//% cflags: -I/home/superjom/project/jupyter-cpp-kernel/resources\n",
    "//% namespace: std\n",
    "\n",
    "const int size = 100000;\n",
    "const int repeat = 10000;\n",
    "\n",
    "float a[size] __attribute__((aligned(16)));\n",
    "float b[size] __attribute__((aligned(16)));\n",
    "float c;\n",
    "\n",
    "// assign random\n",
    "for (int i = 0; i < size; i++) {\n",
    "  a[i] = rand() / RAND_MAX - 0.5;\n",
    "  b[i] = rand() / RAND_MAX - 0.5;\n",
    "}\n",
    "\n",
    "{\n",
    "  c = 0;\n",
    "  OnceTimer t2(\"SIMD0\");\n",
    "  __m128 cc;\n",
    "  for (int t = 0; t < repeat; t++) {\n",
    "    for (int i = 0; i < size; i+=4) {\n",
    "      auto* aa = (__m128*) &a[i];\n",
    "      auto* bb = (__m128*) &b[i];\n",
    "      _mm_store_ps((float*)&cc, _mm_add_ps(cc, _mm_mul_ps(*aa, *bb)));\n",
    "    }\n",
    "  }\n",
    "  auto* cv = (float*) (&cc);\n",
    "  c = cv[0] + cv[1] + cv[2] + cv[3];\n",
    "}\n",
    "cout << \"c:\" << c << endl;\n"
   ]
  },
  {
   "cell_type": "code",
   "execution_count": null,
   "metadata": {},
   "outputs": [],
   "source": []
  }
 ],
 "metadata": {
  "kernelspec": {
   "display_name": "c++-chun",
   "language": "c++",
   "name": "c"
  },
  "language_info": {
   "codemirror_mode": "c++",
   "file_extension": ".cc",
   "mimetype": "text/x-c++src",
   "name": "c++"
  }
 },
 "nbformat": 4,
 "nbformat_minor": 2
}
