{
 "cells": [
  {
   "cell_type": "markdown",
   "metadata": {},
   "source": [
    "# basic binary search"
   ]
  },
  {
   "cell_type": "code",
   "execution_count": 11,
   "metadata": {},
   "outputs": [
    {
     "name": "stdout",
     "output_type": "stream",
     "text": [
      "find: 1\n",
      "find: 6\n"
     ]
    }
   ],
   "source": [
    "//% includes: full\n",
    "//% namespace: std\n",
    "//% main: no\n",
    "int bs(vector<int>& nums, int target) {\n",
    "    int left = 0;\n",
    "    int right = nums.size()-1;\n",
    "    while (left < right) {\n",
    "        int mid = left + (right-left)/2;\n",
    "        if (nums[mid] == target) return mid;\n",
    "        if (nums[mid] < target) {\n",
    "            left = mid+1;\n",
    "        } else {\n",
    "            right = mid;\n",
    "        }\n",
    "    }\n",
    "    return right;\n",
    "}\n",
    "\n",
    "int main() {\n",
    "    vector<int> nums({1,3,4,6,8,10,13,16});\n",
    "    cout << \"find: \" << bs(nums, 3) << endl;\n",
    "    cout << \"find: \" << bs(nums, 13) << endl;\n",
    "    \n",
    "    return 0;\n",
    "}"
   ]
  },
  {
   "cell_type": "markdown",
   "metadata": {},
   "source": [
    "## Lower bound and Upper bound\n",
    "\n",
    "- STL has the `lower_bound` and `upper_bound` methods\n",
    "- the numbers need to be in ascending order\n",
    "- `lower_bound` point to the last value **LE** than target.\n",
    "- `upper_bound` point to the first value **GE** than target."
   ]
  },
  {
   "cell_type": "code",
   "execution_count": 22,
   "metadata": {},
   "outputs": [
    {
     "name": "stdout",
     "output_type": "stream",
     "text": [
      "lower: 6\n",
      "upper: 9\n"
     ]
    }
   ],
   "source": [
    "//% includes: full\n",
    "//% includes: algorithm iostream\n",
    "//% namespace: std\n",
    "\n",
    "vector<int> nums({1, 3,4,5,6,8,9,9,9,11,12});\n",
    "auto it = std::lower_bound(nums.begin(), nums.end(), 9);\n",
    "cout << \"lower: \" << it - nums.begin() << endl;\n",
    "it = std::upper_bound(nums.begin(), nums.end(), 9);\n",
    "cout << \"upper: \" << it - nums.begin() << endl;"
   ]
  },
  {
   "cell_type": "markdown",
   "metadata": {},
   "source": [
    "## find the position where a sorted array rotated"
   ]
  },
  {
   "cell_type": "code",
   "execution_count": 25,
   "metadata": {},
   "outputs": [
    {
     "name": "stdout",
     "output_type": "stream",
     "text": [
      "4\n"
     ]
    }
   ],
   "source": [
    "//% includes: full\n",
    "//% namespace: std\n",
    "//% main: no\n",
    "int findRotate(vector<int>& nums) {\n",
    "    int left = 0;\n",
    "    int right = nums.size() - 1;\n",
    "    while (left < right) {\n",
    "        int mid = left + (right-left)/2;\n",
    "        if (nums[mid] > nums[right]) {\n",
    "            left = mid+1;\n",
    "        } else right = mid;\n",
    "    }\n",
    "    return left;\n",
    "}\n",
    "\n",
    "int main() {\n",
    "    vector<int> nums({4,5,6,7,0,1,2,3});\n",
    "    cout << findRotate(nums) << endl;\n",
    "}"
   ]
  },
  {
   "cell_type": "code",
   "execution_count": null,
   "metadata": {},
   "outputs": [],
   "source": []
  }
 ],
 "metadata": {
  "kernelspec": {
   "display_name": "c++-chun",
   "language": "c++",
   "name": "c"
  },
  "language_info": {
   "codemirror_mode": "text/x-c++src",
   "file_extension": ".c++",
   "mimetype": "text/x-c++src",
   "name": "c++"
  },
  "toc": {
   "nav_menu": {},
   "number_sections": true,
   "sideBar": true,
   "skip_h1_title": false,
   "title_cell": "Table of Contents",
   "title_sidebar": "Contents",
   "toc_cell": false,
   "toc_position": {},
   "toc_section_display": true,
   "toc_window_display": false
  }
 },
 "nbformat": 4,
 "nbformat_minor": 2
}
