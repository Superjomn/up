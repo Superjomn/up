{
 "cells": [
  {
   "cell_type": "markdown",
   "metadata": {},
   "source": [
    "# Introduction"
   ]
  },
  {
   "cell_type": "markdown",
   "metadata": {},
   "source": [
    "## Properties\n",
    "1. the maximum number of nodes at level `l` is $2^{l-1}$.\n",
    "2. maximum number of nodes in a binary tree of height $h$ is $2^h-1$."
   ]
  },
  {
   "cell_type": "markdown",
   "metadata": {},
   "source": [
    "## Types\n",
    "### Full Binary Tree\n",
    "A binary tree is full if every node has 0 or 2 children.\n",
    "### Complete Binary Tree\n",
    "All levels are completed filled **except possibly the last level** and the last level has all keys as left as possible.\n",
    "```\n",
    "               18\n",
    "           /       \\  \n",
    "         15         30  \n",
    "        /  \\        /  \\\n",
    "      40    50    100   40\n",
    "     /  \\   /\n",
    "    8   7  9 \n",
    "```\n",
    "### Perfect Binary Tree\n",
    "All internal nodes have two children and all leaves are at the same level.\n",
    "```\n",
    "               18\n",
    "           /       \\  \n",
    "         15         30  \n",
    "        /  \\        /  \\\n",
    "      40    50    100   40\n",
    "```"
   ]
  },
  {
   "cell_type": "markdown",
   "metadata": {},
   "source": [
    "## BFS vs DFS\n",
    "### Extra space\n",
    "1. Extra space required for Level Order Traversal is $O(w)$ where $w$ is maximum width of Bianry Tree.\n",
    "2. Extra space required for Depth First Traversal is $O(h)$ where h is maximum height of tree. In DFT, stack (or function call stack) stores all ancestors of a node.\n",
    "\n",
    "- the worst case of LOT is the last level of a perfect tree having n nodes, that will take $n/2$ extra space\n",
    "- the worst case of DFT is the skew tree, that will take $n$ extra space\n",
    "- so both method will take $O(n)$ extra space but in different cases.\n",
    "\n",
    "### how to choose\n",
    "- extra space is one factor, worst in different cases.\n",
    "- DFT typically take recursive function call, which will take extra overhead.\n",
    "- BFS start visiting nodes from root, while DFS start visiting nodes from leaves, so if the target are more likely to near the root, we would prefer DFS, or BFS is a better choise."
   ]
  },
  {
   "cell_type": "markdown",
   "metadata": {},
   "source": [
    "# Tree Traversal"
   ]
  },
  {
   "cell_type": "markdown",
   "metadata": {},
   "source": [
    "## Pre-order"
   ]
  },
  {
   "cell_type": "code",
   "execution_count": 17,
   "metadata": {},
   "outputs": [
    {
     "name": "stdout",
     "output_type": "stream",
     "text": [
      "visit1\n",
      "0\n",
      "1\n",
      "3\n",
      "4\n",
      "2\n",
      "5\n",
      "6\n",
      "visit2\n",
      "0\n",
      "1\n",
      "3\n",
      "4\n",
      "2\n",
      "5\n",
      "6\n"
     ]
    }
   ],
   "source": [
    "//%includes: full\n",
    "//%includes: array deque\n",
    "//% namespace: std\n",
    "//% main: no\n",
    "\n",
    "struct Node {\n",
    "    Node* left;\n",
    "    Node* right;\n",
    "    int val;\n",
    "};\n",
    "const int kNum = 7;\n",
    "array<Node, kNum> nodes;\n",
    "\n",
    "void initNodes() {\n",
    "    for(int i = 0; i < kNum; i++) {\n",
    "        nodes[i].val = i;\n",
    "    }\n",
    "/*\n",
    "        0\n",
    "      1   2\n",
    "    3   5  6\n",
    "      4\n",
    "*/\n",
    "    nodes[0].left = &nodes[1];\n",
    "    nodes[0].right = &nodes[2];\n",
    "    nodes[1].left = &nodes[3];\n",
    "    nodes[2].left = &nodes[5];\n",
    "    nodes[2].right = &nodes[6];\n",
    "    nodes[3].right = &nodes[4];\n",
    "}\n",
    "\n",
    "void visit(Node* node) {\n",
    "    cout << node->val << endl;\n",
    "}\n",
    "\n",
    "\n",
    "void PreVisit(Node* root) {\n",
    "    visit(root);\n",
    "    if (root->left) PreVisit(root->left);\n",
    "    if (root->right) PreVisit(root->right);\n",
    "}\n",
    "\n",
    "void PreVisit2(Node* root) {\n",
    "    deque<Node*> stack;\n",
    "    stack.push_back(root);\n",
    "    \n",
    "    while (!stack.empty()) {\n",
    "        auto* top = stack.back();\n",
    "        stack.pop_back();\n",
    "        visit(top);\n",
    "        if (top->right) {\n",
    "            stack.push_back(top->right);\n",
    "        }\n",
    "        if (top->left) {\n",
    "            stack.push_back(top->left);\n",
    "        }\n",
    "    }\n",
    "}\n",
    "\n",
    "int main() {\n",
    "    initNodes();\n",
    "    \n",
    "    cout << \"visit1\" << endl;\n",
    "    PreVisit(&nodes[0]);\n",
    "    \n",
    "    cout << \"visit2\" << endl;\n",
    "    PreVisit2(&nodes[0]);\n",
    "    \n",
    "    return 0;\n",
    "}"
   ]
  },
  {
   "cell_type": "markdown",
   "metadata": {},
   "source": [
    "## Mid-order"
   ]
  },
  {
   "cell_type": "code",
   "execution_count": 1,
   "metadata": {},
   "outputs": [
    {
     "name": "stderr",
     "output_type": "stream",
     "text": [
      "/tmp/tmp3g87x9fy.cc: In function ‘int main()’:\n",
      "/tmp/tmp3g87x9fy.cc:5:5: error: ‘vector’ does not name a type\n",
      "     vector<int> inorderTraversal(TreeNode *root) {\n",
      "     ^\n",
      "[c++ kernel] g++ execute with code 1, the executable will not be executed"
     ]
    }
   ],
   "source": [
    "class Solution {\n",
    "public:\n",
    "    vector<int> inorderTraversal(TreeNode *root) {\n",
    "        vector<int> vector;\n",
    "        stack<TreeNode *> stack;\n",
    "        TreeNode *pCurrent = root;\n",
    "        \n",
    "        while(!stack.empty() || pCurrent)\n",
    "        {\n",
    "            if(pCurrent)\n",
    "            {\n",
    "                stack.push(pCurrent);\n",
    "                pCurrent = pCurrent->left;\n",
    "            }\n",
    "            else\n",
    "            {\n",
    "                TreeNode *pNode = stack.top();\n",
    "                vector.push_back(pNode->val);\n",
    "                stack.pop();\n",
    "                pCurrent = pNode->right;\n",
    "            }\n",
    "        }\n",
    "        return vector;\n",
    "    }\n",
    "};"
   ]
  },
  {
   "cell_type": "markdown",
   "metadata": {},
   "source": [
    "## Post-order"
   ]
  },
  {
   "cell_type": "markdown",
   "metadata": {},
   "source": [
    "# Longest Common Ancestor"
   ]
  },
  {
   "cell_type": "code",
   "execution_count": null,
   "metadata": {},
   "outputs": [],
   "source": []
  }
 ],
 "metadata": {
  "kernelspec": {
   "display_name": "c++-chun",
   "language": "c++",
   "name": "c"
  },
  "language_info": {
   "codemirror_mode": "text/x-c++src",
   "file_extension": ".c++",
   "mimetype": "text/x-c++src",
   "name": "c++"
  },
  "toc": {
   "nav_menu": {},
   "number_sections": true,
   "sideBar": true,
   "skip_h1_title": false,
   "title_cell": "Table of Contents",
   "title_sidebar": "Contents",
   "toc_cell": false,
   "toc_position": {},
   "toc_section_display": true,
   "toc_window_display": false
  }
 },
 "nbformat": 4,
 "nbformat_minor": 2
}
