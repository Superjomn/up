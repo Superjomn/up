{
 "cells": [
  {
   "cell_type": "markdown",
   "metadata": {},
   "source": [
    "# Introduction"
   ]
  },
  {
   "cell_type": "markdown",
   "metadata": {},
   "source": [
    "## BFS"
   ]
  },
  {
   "cell_type": "markdown",
   "metadata": {},
   "source": [
    "- Word lander II https://leetcode.com/problems/word-ladder-ii/description/"
   ]
  },
  {
   "cell_type": "code",
   "execution_count": 9,
   "metadata": {},
   "outputs": [],
   "source": [
    "//% includes: full\n",
    "//% namespace: std\n",
    "//% includes: deque algorithm\n",
    "//% main: no\n",
    "\n",
    "class Solution {\n",
    "public:\n",
    "    vector<vector<string>> findLadders(string beginWord, string endWord, vector<string>& wordList) {\n",
    "        deque<vector<string>> queue;\n",
    "        queue.push_back(vector<string>({beginWord}));\n",
    "        vector<vector<string>> res;\n",
    "        \n",
    "        if (beginWord == endWord) {\n",
    "            res.push_back(vector<string>({beginWord}));\n",
    "            return res;\n",
    "        }\n",
    "        set<string> visited;\n",
    "        set<string> dic(wordList.begin(), wordList.end());\n",
    "        bool found = false;\n",
    "        const size_t wordlen = wordList.front().size();\n",
    "        \n",
    "        while (!queue.empty()) {\n",
    "            auto size = queue.size();\n",
    "            if (found) {\n",
    "                return res;\n",
    "            }\n",
    "            for (size_t i = 0; i < size; i++) {\n",
    "                auto top = queue.front();\n",
    "                queue.pop_front();\n",
    "                // collect next step\n",
    "                auto pre = top.back();\n",
    "                top.push_back(\"\");\n",
    "                for (int j = 0; j < wordlen; j++) {\n",
    "                    char old = pre[j];\n",
    "                    for (char c = 'a'; c <= 'z'; c++) {\n",
    "                        if (c == old) continue;\n",
    "                        pre[j] = c;\n",
    "                        if (dic.count(pre) == 1 && visited.count(pre) == 0) {\n",
    "                            top.back() = pre;\n",
    "                            if (pre == endWord) {\n",
    "                                found = true;\n",
    "                                res.push_back(top);\n",
    "                            } else {\n",
    "                                queue.push_back(top);\n",
    "                            }\n",
    "                        }\n",
    "                    }\n",
    "                    pre[j] = old;\n",
    "                }\n",
    "                \n",
    "                visited.insert(pre);\n",
    "            }\n",
    "        }\n",
    "        return res;\n",
    "    }\n",
    "};\n",
    "\n",
    "int main() {\n",
    "    return 0;\n",
    "}"
   ]
  },
  {
   "cell_type": "markdown",
   "metadata": {},
   "source": [
    "## DFS"
   ]
  },
  {
   "cell_type": "markdown",
   "metadata": {},
   "source": [
    "# Shortest Paths"
   ]
  },
  {
   "cell_type": "markdown",
   "metadata": {},
   "source": [
    "# Graph Cycle"
   ]
  },
  {
   "cell_type": "markdown",
   "metadata": {},
   "source": [
    "# Connectivity"
   ]
  },
  {
   "cell_type": "markdown",
   "metadata": {},
   "source": [
    "# Topological Sorting"
   ]
  },
  {
   "cell_type": "markdown",
   "metadata": {},
   "source": [
    "# BackTracking"
   ]
  },
  {
   "cell_type": "markdown",
   "metadata": {},
   "source": [
    "# Shortest Path"
   ]
  },
  {
   "cell_type": "markdown",
   "metadata": {},
   "source": [
    "## Dijkstra's algorithm"
   ]
  },
  {
   "cell_type": "code",
   "execution_count": 4,
   "metadata": {},
   "outputs": [],
   "source": [
    "//% includes: full\n",
    "//% includes: climits\n",
    "//% namespace: std\n",
    "//% main:no\n",
    "\n",
    "const int V = 9;\n",
    "int graph[V][V] = {{0, 4, 0, 0, 0, 0, 0, 8, 0},\n",
    "                      {4, 0, 8, 0, 0, 0, 0, 11, 0},\n",
    "                      {0, 8, 0, 7, 0, 4, 0, 0, 2},\n",
    "                      {0, 0, 7, 0, 9, 14, 0, 0, 0},\n",
    "                      {0, 0, 0, 9, 0, 10, 0, 0, 0},\n",
    "                      {0, 0, 4, 14, 10, 0, 2, 0, 0},\n",
    "                      {0, 0, 0, 0, 0, 2, 0, 1, 6},\n",
    "                      {8, 11, 0, 0, 0, 0, 1, 0, 7},\n",
    "                      {0, 0, 2, 0, 0, 0, 6, 7, 0}\n",
    "                     };\n",
    "\n",
    "\n",
    "int main() {\n",
    "    return 0;\n",
    "}"
   ]
  },
  {
   "cell_type": "code",
   "execution_count": null,
   "metadata": {},
   "outputs": [],
   "source": []
  }
 ],
 "metadata": {
  "kernelspec": {
   "display_name": "c++-chun",
   "language": "c++",
   "name": "c"
  },
  "language_info": {
   "codemirror_mode": "text/x-c++src",
   "file_extension": ".c++",
   "mimetype": "text/x-c++src",
   "name": "c++"
  },
  "toc": {
   "nav_menu": {},
   "number_sections": true,
   "sideBar": true,
   "skip_h1_title": false,
   "title_cell": "Table of Contents",
   "title_sidebar": "Contents",
   "toc_cell": false,
   "toc_position": {},
   "toc_section_display": true,
   "toc_window_display": false
  }
 },
 "nbformat": 4,
 "nbformat_minor": 2
}
