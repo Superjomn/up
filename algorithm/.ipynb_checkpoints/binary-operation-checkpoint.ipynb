{
 "cells": [
  {
   "cell_type": "markdown",
   "metadata": {},
   "source": [
    "# Basic operations\n",
    "\n",
    "- `&` \n",
    "- `|`\n",
    "- `<<`\n",
    "- `>>`\n",
    "- `~` complement\n",
    "- `^` xor"
   ]
  },
  {
   "cell_type": "markdown",
   "metadata": {},
   "source": [
    "## bitset"
   ]
  },
  {
   "cell_type": "code",
   "execution_count": 9,
   "metadata": {},
   "outputs": [
    {
     "name": "stdout",
     "output_type": "stream",
     "text": [
      "0000100000\n",
      "1\n",
      "0001000000\n",
      "1110111111\n"
     ]
    }
   ],
   "source": [
    "//% includes: bitset\n",
    "//% includes: full\n",
    "//% namespace: std\n",
    "\n",
    "bitset<10> bits;\n",
    "bits.set(5);\n",
    "cout << bits.to_string() << endl;\n",
    "\n",
    "cout << bits.test(5) << endl;\n",
    "\n",
    "bits <<= 1;\n",
    "cout << bits.to_string() << endl;\n",
    "\n",
    "cout << (~bits).to_string() << endl;"
   ]
  },
  {
   "cell_type": "markdown",
   "metadata": {},
   "source": [
    "## raw operations"
   ]
  },
  {
   "cell_type": "code",
   "execution_count": 18,
   "metadata": {},
   "outputs": [
    {
     "name": "stdout",
     "output_type": "stream",
     "text": [
      "00000100\n",
      "00000000\n",
      "00000010\n"
     ]
    }
   ],
   "source": [
    "//% includes: full\n",
    "//% includes: sstream\n",
    "//% namespace: std\n",
    "//% main: no\n",
    "\n",
    "string byte2str(char a) {\n",
    "    stringstream ss;\n",
    "    for (int i = 0; i < 8; i++) {\n",
    "        ss << ((a & (1 << i)) != 0);\n",
    "    }\n",
    "    return ss.str();\n",
    "}\n",
    "\n",
    "int main() {\n",
    "    char a = 0;\n",
    "    // set a bit\n",
    "    a |= (1 << 5);\n",
    "    cout << byte2str(a) << endl;\n",
    "    // reset a bit\n",
    "    a &= ~(1 << 5);\n",
    "    cout << byte2str(a) << endl;\n",
    "    // xor\n",
    "    char b = 1 << 5;\n",
    "    char c = 3 << 5;\n",
    "    char d = b ^ c;\n",
    "    cout << byte2str(d) << endl;\n",
    "}"
   ]
  },
  {
   "cell_type": "code",
   "execution_count": null,
   "metadata": {},
   "outputs": [],
   "source": []
  }
 ],
 "metadata": {
  "kernelspec": {
   "display_name": "c++-chun",
   "language": "c++",
   "name": "c"
  },
  "language_info": {
   "codemirror_mode": "text/x-c++src",
   "file_extension": ".c++",
   "mimetype": "text/x-c++src",
   "name": "c++"
  },
  "toc": {
   "nav_menu": {},
   "number_sections": true,
   "sideBar": true,
   "skip_h1_title": false,
   "title_cell": "Table of Contents",
   "title_sidebar": "Contents",
   "toc_cell": false,
   "toc_position": {},
   "toc_section_display": true,
   "toc_window_display": false
  }
 },
 "nbformat": 4,
 "nbformat_minor": 2
}
