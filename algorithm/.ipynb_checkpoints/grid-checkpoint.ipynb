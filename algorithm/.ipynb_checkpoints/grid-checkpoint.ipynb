{
 "cells": [
  {
   "cell_type": "markdown",
   "metadata": {},
   "source": [
    "# number of areas"
   ]
  },
  {
   "cell_type": "markdown",
   "metadata": {},
   "source": [
    "## number of islands\n",
    "https://leetcode.com/problems/number-of-islands/description/\n",
    "\n",
    "two methods\n",
    "\n",
    "- eliminate all the other connected pixels\n",
    "- union find, unify all the pixels' parent in a same area"
   ]
  },
  {
   "cell_type": "code",
   "execution_count": null,
   "metadata": {},
   "outputs": [],
   "source": []
  }
 ],
 "metadata": {
  "kernelspec": {
   "display_name": "c++-chun",
   "language": "c++",
   "name": "c"
  },
  "language_info": {
   "codemirror_mode": "text/x-c++src",
   "file_extension": ".c++",
   "mimetype": "text/x-c++src",
   "name": "c++"
  }
 },
 "nbformat": 4,
 "nbformat_minor": 2
}
