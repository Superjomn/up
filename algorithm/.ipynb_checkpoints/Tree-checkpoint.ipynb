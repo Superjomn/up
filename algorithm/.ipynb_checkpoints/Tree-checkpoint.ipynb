{
 "cells": [
  {
   "cell_type": "markdown",
   "metadata": {},
   "source": [
    "# Introduction"
   ]
  },
  {
   "cell_type": "markdown",
   "metadata": {},
   "source": [
    "## Properties\n",
    "1. the maximum number of nodes at level `l` is $2^{l-1}$.\n",
    "2. maximum number of nodes in a binary tree of height $h$ is $2^h-1$."
   ]
  },
  {
   "cell_type": "markdown",
   "metadata": {},
   "source": [
    "## Types\n",
    "### Full Binary Tree\n",
    "A binary tree is full if every node has 0 or 2 children.\n",
    "### Complete Binary Tree\n",
    "All levels are completed filled **except possibly the last level** and the last level has all keys as left as possible.\n",
    "```\n",
    "               18\n",
    "           /       \\  \n",
    "         15         30  \n",
    "        /  \\        /  \\\n",
    "      40    50    100   40\n",
    "     /  \\   /\n",
    "    8   7  9 \n",
    "```\n",
    "### Perfect Binary Tree\n",
    "All internal nodes have two children and all leaves are at the same level.\n",
    "```\n",
    "               18\n",
    "           /       \\  \n",
    "         15         30  \n",
    "        /  \\        /  \\\n",
    "      40    50    100   40\n",
    "```"
   ]
  },
  {
   "cell_type": "markdown",
   "metadata": {},
   "source": [
    "## BFS vs DFS\n",
    "### Extra space\n",
    "1. Extra space required for Level Order Traversal is $O(w)$ where $w$ is maximum width of Bianry Tree.\n",
    "2. Extra space required for Depth First Traversal is $O(h)$ where h is maximum height of tree. In DFT, stack (or function call stack) stores all ancestors of a node.\n",
    "\n",
    "- the worst case of LOT is the last level of a perfect tree having n nodes, that will take $n/2$ extra space\n",
    "- the worst case of DFT is the skew tree, that will take $n$ extra space\n",
    "- so both method will take $O(n)$ extra space but in different cases.\n",
    "\n",
    "### how to choose\n",
    "- extra space is one factor, worst in different cases.\n",
    "- DFT typically take recursive function call, which will take extra overhead.\n",
    "- BFS start visiting nodes from root, while DFS start visiting nodes from leaves, so if the target are more likely to near the root, we would prefer DFS, or BFS is a better choise."
   ]
  },
  {
   "cell_type": "markdown",
   "metadata": {},
   "source": [
    "# Tree Traversal"
   ]
  },
  {
   "cell_type": "markdown",
   "metadata": {},
   "source": [
    "## Pre-order"
   ]
  },
  {
   "cell_type": "markdown",
   "metadata": {},
   "source": [
    "## Mid-order"
   ]
  },
  {
   "cell_type": "code",
   "execution_count": 1,
   "metadata": {},
   "outputs": [
    {
     "name": "stderr",
     "output_type": "stream",
     "text": [
      "/tmp/tmp3g87x9fy.cc: In function ‘int main()’:\n",
      "/tmp/tmp3g87x9fy.cc:5:5: error: ‘vector’ does not name a type\n",
      "     vector<int> inorderTraversal(TreeNode *root) {\n",
      "     ^\n",
      "[c++ kernel] g++ execute with code 1, the executable will not be executed"
     ]
    }
   ],
   "source": [
    "class Solution {\n",
    "public:\n",
    "    vector<int> inorderTraversal(TreeNode *root) {\n",
    "        vector<int> vector;\n",
    "        stack<TreeNode *> stack;\n",
    "        TreeNode *pCurrent = root;\n",
    "        \n",
    "        while(!stack.empty() || pCurrent)\n",
    "        {\n",
    "            if(pCurrent)\n",
    "            {\n",
    "                stack.push(pCurrent);\n",
    "                pCurrent = pCurrent->left;\n",
    "            }\n",
    "            else\n",
    "            {\n",
    "                TreeNode *pNode = stack.top();\n",
    "                vector.push_back(pNode->val);\n",
    "                stack.pop();\n",
    "                pCurrent = pNode->right;\n",
    "            }\n",
    "        }\n",
    "        return vector;\n",
    "    }\n",
    "};"
   ]
  },
  {
   "cell_type": "markdown",
   "metadata": {},
   "source": [
    "## Post-order"
   ]
  },
  {
   "cell_type": "markdown",
   "metadata": {},
   "source": [
    "# Longest Common Ancestor"
   ]
  },
  {
   "cell_type": "code",
   "execution_count": null,
   "metadata": {},
   "outputs": [],
   "source": []
  }
 ],
 "metadata": {
  "kernelspec": {
   "display_name": "c++-chun",
   "language": "c++",
   "name": "c"
  },
  "language_info": {
   "codemirror_mode": "text/x-c++src",
   "file_extension": ".c++",
   "mimetype": "text/x-c++src",
   "name": "c++"
  },
  "toc": {
   "nav_menu": {},
   "number_sections": true,
   "sideBar": true,
   "skip_h1_title": false,
   "title_cell": "Table of Contents",
   "title_sidebar": "Contents",
   "toc_cell": false,
   "toc_position": {},
   "toc_section_display": true,
   "toc_window_display": false
  }
 },
 "nbformat": 4,
 "nbformat_minor": 2
}
