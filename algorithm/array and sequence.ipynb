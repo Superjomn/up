{
 "cells": [
  {
   "cell_type": "markdown",
   "metadata": {},
   "source": [
    "# Trapping Rain Water"
   ]
  },
  {
   "cell_type": "markdown",
   "metadata": {},
   "source": [
    "https://leetcode.com/problems/trapping-rain-water/description/\n",
    "Given n non-negative integers representing an elevation map where the width of each bar is 1, compute how much water it is able to trap after raining.\n",
    "\n",
    "For example, \n",
    "Given [0,1,0,2,1,0,1,3,2,1,2,1], return 6."
   ]
  },
  {
   "cell_type": "code",
   "execution_count": 3,
   "metadata": {},
   "outputs": [],
   "source": [
    "//% includes: full\n",
    "//% includes: algorithm functional\n",
    "//% namespace: std\n",
    "class Solution {\n",
    "public:\n",
    "    int trap(vector<int>& height) {\n",
    "        if (height.size() < 2) return 0;\n",
    "        // build heap\n",
    "        vector<pair<int,int>> heap;\n",
    "        for (int i = 0; i < height.size(); i++) {\n",
    "            heap.emplace_back(i, height[i]);\n",
    "        }\n",
    "        auto cmp = [](const pair<int,int>& a, const pair<int,int>& b) {\n",
    "            return a.second < b.second;\n",
    "        };\n",
    "        make_heap(heap.begin(), heap.end(), cmp);\n",
    "        \n",
    "        auto popheap = [&] {\n",
    "            pop_heap(heap.begin(), heap.end(), cmp);\n",
    "            auto res = heap.back();\n",
    "            heap.pop_back();\n",
    "            //cout << \"pop \" << res.first << \" \" << res.second << endl;\n",
    "            return res;\n",
    "        };\n",
    "        // the first x\n",
    "        auto first = popheap();\n",
    "        auto scope = make_pair(first.first, first.first);\n",
    "        auto calArea = [&](int left, int right, int h) {\n",
    "            //cout << left << \" \" << right << \" \" << height[left] << \" \" << height[right] << endl;\n",
    "            int res = 0;\n",
    "            for (int i = left+1; i < right; i++) {\n",
    "                res += h - height[i];\n",
    "            }\n",
    "            return res;\n",
    "        };\n",
    "        auto cal = [&](pair<int,int> pix) {\n",
    "            // within scope?\n",
    "            if (pix.first > scope.first && pix.first < scope.second) return 0;\n",
    "            int res = 0;\n",
    "            if (pix.first < scope.first) {\n",
    "                // calculate left -> right\n",
    "                res = calArea(pix.first, scope.first, pix.second);\n",
    "                scope.first = pix.first;\n",
    "            } else {\n",
    "                res = calArea(scope.second, pix.first, pix.second);\n",
    "                scope.second = pix.first;\n",
    "            }\n",
    "            return res;\n",
    "        };\n",
    "        \n",
    "        int area = 0;\n",
    "        while (!heap.empty()) {\n",
    "            auto v = popheap();\n",
    "            if (v.second == 0) break;\n",
    "            area += cal(v);\n",
    "        }\n",
    "        return area;\n",
    "    }\n",
    "};"
   ]
  }
 ],
 "metadata": {
  "kernelspec": {
   "display_name": "c++-chun",
   "language": "c++",
   "name": "c"
  },
  "language_info": {
   "codemirror_mode": "text/x-c++src",
   "file_extension": ".c++",
   "mimetype": "text/x-c++src",
   "name": "c++"
  },
  "toc": {
   "nav_menu": {},
   "number_sections": true,
   "sideBar": true,
   "skip_h1_title": false,
   "title_cell": "Table of Contents",
   "title_sidebar": "Contents",
   "toc_cell": false,
   "toc_position": {},
   "toc_section_display": true,
   "toc_window_display": false
  }
 },
 "nbformat": 4,
 "nbformat_minor": 2
}
