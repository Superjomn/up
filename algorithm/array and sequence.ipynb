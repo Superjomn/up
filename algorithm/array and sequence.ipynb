{
 "cells": [
  {
   "cell_type": "markdown",
   "metadata": {},
   "source": [
    "# Trapping Rain Water"
   ]
  },
  {
   "cell_type": "markdown",
   "metadata": {},
   "source": [
    "https://leetcode.com/problems/trapping-rain-water/description/\n",
    "Given n non-negative integers representing an elevation map where the width of each bar is 1, compute how much water it is able to trap after raining.\n",
    "\n",
    "For example, \n",
    "Given [0,1,0,2,1,0,1,3,2,1,2,1], return 6."
   ]
  },
  {
   "cell_type": "code",
   "execution_count": 4,
   "metadata": {},
   "outputs": [],
   "source": [
    "//% includes: full\n",
    "//% includes: algorithm functional\n",
    "//% namespace: std\n",
    "class Solution {\n",
    "public:\n",
    "    int trap(vector<int>& height) {\n",
    "        if (height.size() < 2) return 0;\n",
    "        // build heap\n",
    "        vector<pair<int,int>> heap;\n",
    "        for (int i = 0; i < height.size(); i++) {\n",
    "            heap.emplace_back(i, height[i]);\n",
    "        }\n",
    "        auto cmp = [](const pair<int,int>& a, const pair<int,int>& b) {\n",
    "            return a.second < b.second;\n",
    "        };\n",
    "        make_heap(heap.begin(), heap.end(), cmp);\n",
    "        \n",
    "        auto popheap = [&] {\n",
    "            pop_heap(heap.begin(), heap.end(), cmp);\n",
    "            auto res = heap.back();\n",
    "            heap.pop_back();\n",
    "            //cout << \"pop \" << res.first << \" \" << res.second << endl;\n",
    "            return res;\n",
    "        };\n",
    "        // the first x\n",
    "        auto first = popheap();\n",
    "        auto scope = make_pair(first.first, first.first);\n",
    "        auto calArea = [&](int left, int right, int h) {\n",
    "            //cout << left << \" \" << right << \" \" << height[left] << \" \" << height[right] << endl;\n",
    "            int res = 0;\n",
    "            for (int i = left+1; i < right; i++) {\n",
    "                res += h - height[i];\n",
    "            }\n",
    "            return res;\n",
    "        };\n",
    "        auto cal = [&](pair<int,int> pix) {\n",
    "            // within scope?\n",
    "            if (pix.first > scope.first && pix.first < scope.second) return 0;\n",
    "            int res = 0;\n",
    "            if (pix.first < scope.first) {\n",
    "                // calculate left -> right\n",
    "                res = calArea(pix.first, scope.first, pix.second);\n",
    "                scope.first = pix.first;\n",
    "            } else {\n",
    "                res = calArea(scope.second, pix.first, pix.second);\n",
    "                scope.second = pix.first;\n",
    "            }\n",
    "            return res;\n",
    "        };\n",
    "        \n",
    "        int area = 0;\n",
    "        while (!heap.empty()) {\n",
    "            auto v = popheap();\n",
    "            if (v.second == 0) break;\n",
    "            area += cal(v);\n",
    "        }\n",
    "        return area;\n",
    "    }\n",
    "};"
   ]
  },
  {
   "cell_type": "markdown",
   "metadata": {},
   "source": [
    "# Reverse Nodes in k-Group"
   ]
  },
  {
   "cell_type": "code",
   "execution_count": 5,
   "metadata": {},
   "outputs": [
    {
     "name": "stderr",
     "output_type": "stream",
     "text": [
      "/tmp/tmp6vhtho0h.cc: In function ‘int main()’:\n",
      "/tmp/tmp6vhtho0h.cc:20:5: error: ‘ListNode’ does not name a type\n",
      "     ListNode* reverseKGroup(ListNode* head, int k) {\n",
      "     ^\n",
      "/tmp/tmp6vhtho0h.cc:35:5: error: ‘ListNode’ does not name a type\n",
      "     ListNode* reverseK(ListNode* pre, int k) {\n",
      "     ^\n",
      "[c++ kernel] g++ execute with code 1, the executable will not be executed"
     ]
    }
   ],
   "source": [
    "//% includes: full\n",
    "// namespace: std\n",
    "\n",
    "/**\n",
    " * Definition for singly-linked list.\n",
    " * struct ListNode {\n",
    " *     int val;\n",
    " *     ListNode *next;\n",
    " *     ListNode(int x) : val(x), next(NULL) {}\n",
    " * };\n",
    " */\n",
    "class Solution {\n",
    "public:\n",
    "    ListNode* reverseKGroup(ListNode* head, int k) {\n",
    "        if (!head) return head;\n",
    "        ListNode root(0);\n",
    "        root.next = head;\n",
    "        ListNode* res = reverseK(&root, k);\n",
    "        if (!res) return head;\n",
    "        \n",
    "        while (res) {\n",
    "            res = reverseK(res, k);\n",
    "        }\n",
    "        return root.next;\n",
    "    }\n",
    "    \n",
    "    // return the head of next k\n",
    "    // pre is the previous node of this k span\n",
    "    ListNode* reverseK(ListNode* pre, int k) {\n",
    "        //cout << \"reverse from \" << pre->next->val << endl;\n",
    "        ListNode* res{nullptr};\n",
    "        ListNode* p = pre->next;\n",
    "        for (int i = 1; i < k; i++) {\n",
    "            if (!p) return nullptr;\n",
    "            p = p->next;\n",
    "        }\n",
    "        if (!p) return nullptr;\n",
    "        //cout << \"end \" << p->val << endl;\n",
    "        res = p->next;\n",
    "        \n",
    "        // first node.next point to head of next turn\n",
    "        p = pre->next;\n",
    "        ListNode* q = p->next;\n",
    "        p->next = res;\n",
    "        res = p;\n",
    "        for (int i = 1; i < k; i++) {\n",
    "            p = q;\n",
    "            q = q->next;\n",
    "            p->next = pre->next;\n",
    "            pre->next = p;\n",
    "        }\n",
    "        return res;\n",
    "    }\n",
    "};"
   ]
  },
  {
   "cell_type": "markdown",
   "metadata": {},
   "source": []
  },
  {
   "cell_type": "code",
   "execution_count": null,
   "metadata": {},
   "outputs": [],
   "source": []
  }
 ],
 "metadata": {
  "kernelspec": {
   "display_name": "c++-chun",
   "language": "c++",
   "name": "c"
  },
  "language_info": {
   "codemirror_mode": "text/x-c++src",
   "file_extension": ".c++",
   "mimetype": "text/x-c++src",
   "name": "c++"
  },
  "toc": {
   "nav_menu": {},
   "number_sections": true,
   "sideBar": true,
   "skip_h1_title": false,
   "title_cell": "Table of Contents",
   "title_sidebar": "Contents",
   "toc_cell": false,
   "toc_position": {},
   "toc_section_display": true,
   "toc_window_display": false
  }
 },
 "nbformat": 4,
 "nbformat_minor": 2
}
