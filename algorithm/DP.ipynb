{
 "cells": [
  {
   "cell_type": "markdown",
   "metadata": {},
   "source": [
    "# LCS (Longest Common Sequence)"
   ]
  },
  {
   "cell_type": "markdown",
   "metadata": {},
   "source": [
    "Given two sequences, find the length of longest subsequence present in both of them.\n",
    "\n",
    "Hint:\n",
    "\n",
    "- `LCS(S[0..i], T[0..j]) = LCS(S[0..i-1], T[0..j-1]) + 1 if S[i] == T[j]` **match a char**\n",
    "- `= max(LCS(S[0..i-1], T[0..j]), LCS(S[0..i], T[0..j-1]))`  **skip a char**"
   ]
  },
  {
   "cell_type": "code",
   "execution_count": 2,
   "metadata": {
    "scrolled": true
   },
   "outputs": [
    {
     "name": "stdout",
     "output_type": "stream",
     "text": [
      "GXTXAYB\n",
      "AGGTAB\n",
      "4\n"
     ]
    }
   ],
   "source": [
    "//% includes: full\n",
    "//% namespace: std\n",
    "//% main: no\n",
    "string A = \"GXTXAYB\";\n",
    "string B = \"AGGTAB\";\n",
    "\n",
    "int LCS(string& A, string& B) {\n",
    "    // start from zero\n",
    "    vector<vector<int>> lens(A.size()+1, vector<int>(B.size()+1, 0));\n",
    "    for (int a = 1; a <= A.size(); a++) {\n",
    "        for (int b = 1; b <= B.size(); b++) {\n",
    "            if (A[a-1] == B[b-1]) {\n",
    "                lens[a][b] = lens[a-1][b-1] + 1;\n",
    "            }\n",
    "            \n",
    "            int case1 = max(lens[a-1][b], lens[a][b-1]);\n",
    "            lens[a][b] = max(case1, lens[a][b]);\n",
    "        }\n",
    "    }\n",
    "    return lens[A.size()][B.size()];\n",
    "}\n",
    "\n",
    "int main() {\n",
    "    cout << A << endl;\n",
    "    cout << B << endl;\n",
    "    cout << LCS(A, B) << endl;\n",
    "}"
   ]
  },
  {
   "cell_type": "markdown",
   "metadata": {},
   "source": [
    "# Largest Sum Continuous Subarray\n",
    "Find the sum of continuous subarray within a one-dimensional array of numbers which has the largest sum.\n",
    "\n",
    "The basic idea is that if the previous subarray is positive, the subarray including the current item should concate that subarray."
   ]
  },
  {
   "cell_type": "code",
   "execution_count": 1,
   "metadata": {},
   "outputs": [],
   "source": [
    "//% includes: full\n",
    "//% namespace: std"
   ]
  },
  {
   "cell_type": "markdown",
   "metadata": {},
   "source": [
    "# Knapsack problem"
   ]
  },
  {
   "cell_type": "markdown",
   "metadata": {},
   "source": [
    "Given weights and values of n items, put these items in a knapsack of capacity W to get the maximum total value in the knapsack."
   ]
  },
  {
   "cell_type": "markdown",
   "metadata": {},
   "source": [
    "The recursion computes the same subproblems again and again.\n",
    "\n",
    "Like other typical Dynamic Programming problems, recomputations of same subproblems can be avoided by constucting a temporary array `K[][]` in bottom up manner."
   ]
  },
  {
   "cell_type": "code",
   "execution_count": 2,
   "metadata": {},
   "outputs": [],
   "source": [
    "//%includes: full\n",
    "//%namespace: std\n",
    "//%main: no\n",
    "\n",
    "int knapsack(int W, vector<int>& ws, vector<int>& vs) {\n",
    "    vector<vector<int>> dps(ws.size(), vector<int>(W, 0));\n",
    "    \n",
    "    for (int i = 1; i < ws.size(); i++) {\n",
    "        for (int w = 1; w <= W; w++) {\n",
    "            // add the current \n",
    "            if (w >= vs[i]) dps[i][w] = dps[i-1][w-vs[i]] + vs[i];\n",
    "            dps[i][w] = max(dps[i][w], dps[i-1][w]);\n",
    "        }\n",
    "    }\n",
    "    return dps[ws.size()][W];\n",
    "}\n",
    "\n",
    "int main() {\n",
    "    \n",
    "    return 0;\n",
    "}"
   ]
  },
  {
   "cell_type": "code",
   "execution_count": null,
   "metadata": {},
   "outputs": [],
   "source": []
  }
 ],
 "metadata": {
  "kernelspec": {
   "display_name": "c++-chun",
   "language": "c++",
   "name": "c"
  },
  "language_info": {
   "codemirror_mode": "text/x-c++src",
   "file_extension": ".c++",
   "mimetype": "text/x-c++src",
   "name": "c++"
  },
  "toc": {
   "nav_menu": {},
   "number_sections": true,
   "sideBar": true,
   "skip_h1_title": false,
   "title_cell": "Table of Contents",
   "title_sidebar": "Contents",
   "toc_cell": false,
   "toc_position": {},
   "toc_section_display": true,
   "toc_window_display": false
  }
 },
 "nbformat": 4,
 "nbformat_minor": 2
}
