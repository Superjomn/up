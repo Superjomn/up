{
 "cells": [
  {
   "cell_type": "markdown",
   "metadata": {},
   "source": [
    "# Traversal\n",
    "## Mid-order"
   ]
  },
  {
   "cell_type": "code",
   "execution_count": 1,
   "metadata": {},
   "outputs": [
    {
     "name": "stderr",
     "output_type": "stream",
     "text": [
      "/tmp/tmp3g87x9fy.cc: In function ‘int main()’:\n",
      "/tmp/tmp3g87x9fy.cc:5:5: error: ‘vector’ does not name a type\n",
      "     vector<int> inorderTraversal(TreeNode *root) {\n",
      "     ^\n",
      "[c++ kernel] g++ execute with code 1, the executable will not be executed"
     ]
    }
   ],
   "source": [
    "class Solution {\n",
    "public:\n",
    "    vector<int> inorderTraversal(TreeNode *root) {\n",
    "        vector<int> vector;\n",
    "        stack<TreeNode *> stack;\n",
    "        TreeNode *pCurrent = root;\n",
    "        \n",
    "        while(!stack.empty() || pCurrent)\n",
    "        {\n",
    "            if(pCurrent)\n",
    "            {\n",
    "                stack.push(pCurrent);\n",
    "                pCurrent = pCurrent->left;\n",
    "            }\n",
    "            else\n",
    "            {\n",
    "                TreeNode *pNode = stack.top();\n",
    "                vector.push_back(pNode->val);\n",
    "                stack.pop();\n",
    "                pCurrent = pNode->right;\n",
    "            }\n",
    "        }\n",
    "        return vector;\n",
    "    }\n",
    "};"
   ]
  },
  {
   "cell_type": "code",
   "execution_count": null,
   "metadata": {},
   "outputs": [],
   "source": []
  }
 ],
 "metadata": {
  "kernelspec": {
   "display_name": "c++-chun",
   "language": "c++",
   "name": "c"
  },
  "language_info": {
   "codemirror_mode": "text/x-c++src",
   "file_extension": ".c++",
   "mimetype": "text/x-c++src",
   "name": "c++"
  },
  "toc": {
   "nav_menu": {},
   "number_sections": true,
   "sideBar": true,
   "skip_h1_title": false,
   "title_cell": "Table of Contents",
   "title_sidebar": "Contents",
   "toc_cell": false,
   "toc_position": {},
   "toc_section_display": true,
   "toc_window_display": false
  }
 },
 "nbformat": 4,
 "nbformat_minor": 2
}
